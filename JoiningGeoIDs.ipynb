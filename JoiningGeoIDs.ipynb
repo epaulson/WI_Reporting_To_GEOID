{
 "cells": [
  {
   "cell_type": "markdown",
   "metadata": {},
   "source": [
    "## Turning Wards in Geography\n",
    "\n",
    "In our previous notebook, we normalized OpenElection ward names from the county clerk's \"Reporting Units\" and into an easier-to-parse and standard list of wards. Now, let's add in some Geo Data. The [LTSB Open Data Portal](http://data.ltsb.opendata.arcgis.com/) is based on ArcGIS and allows you to download data on every ward in the State as a CSV, a Shapefile, or as a KML file. To keep it simple, let's download the CSV version of the 2016 Fall wards. \n",
    "\n",
    "**The LTSB ArcGIS portal doesn't have 2014 ward data, so we're using 2016 ward maps to join against the 2014 OpenElections results.** This is mostly OK - a few boundaries will have changed due to annexations, and the two other big changes were two towns incorporated as villages. Strictly speaking, however, the maps don't quite line up right. We'll update this notebook to use 2016 OpenElections results in the future, and then the boundaries and results will be aligned. \n",
    "\n",
    "Also, this is probably as good as any place to note that the LTSB also publishes election results, and does so in as spreadsheets and shapefiles, broken down by ward. **There are no actual Statewide, ward-level results in Wisconsin. The LTSB processes the GAB/Elections Commission results to create them, just like we're doing here**. Because a given reporting unit might have multiple wards, it is impossible to say how exactly a given ward voted. The LTSB proportionally allocates votes to each ward in a reporting unit, weighted by the population of the wards. (And not, alas, by the turnout of each ward, which would at least be slightly more accurate.) If you want to know how two wards voted, you literally have to go to the Clerk's office and inspect the ballots. Also, because the LTSB has to use the Census data to weight by population, they can use the Census demographics to estimate the racial makeup of a given ward, but again, the LTSB weights by population and doesn't look at the actual Voter File to see who turned out (and Wisconsin doesn't how a voter racially identifies in the voter file anyway) these are just estimates. \n",
    "\n",
    "We'll start again with the preliminaries - bring in Pandas and set some blogging-friendly defaults, and then actually load the ward data."
   ]
  },
  {
   "cell_type": "code",
   "execution_count": 1,
   "metadata": {
    "collapsed": true
   },
   "outputs": [],
   "source": [
    "import pandas as pd\n",
    "import re\n",
    "import json\n",
    "pd.options.display.max_rows = 999\n",
    "pd.options.display.max_columns = 999"
   ]
  },
  {
   "cell_type": "code",
   "execution_count": 2,
   "metadata": {
    "collapsed": false
   },
   "outputs": [
    {
     "data": {
      "text/html": [
       "<div>\n",
       "<table border=\"1\" class=\"dataframe\">\n",
       "  <thead>\n",
       "    <tr style=\"text-align: right;\">\n",
       "      <th></th>\n",
       "      <th>OBJECTID</th>\n",
       "      <th>GEOID</th>\n",
       "      <th>CNTY_FIPS</th>\n",
       "      <th>COUSUBFP</th>\n",
       "      <th>WARDID</th>\n",
       "      <th>WARD_FIPS</th>\n",
       "      <th>SUPERID</th>\n",
       "      <th>SUPER_FIPS</th>\n",
       "      <th>ALDERID</th>\n",
       "      <th>ALDER_FIPS</th>\n",
       "      <th>CNTY_NAME</th>\n",
       "      <th>MCD_NAME</th>\n",
       "      <th>MCD_FIPS</th>\n",
       "      <th>CONTACT</th>\n",
       "      <th>DATE_SUB</th>\n",
       "      <th>CTV</th>\n",
       "      <th>NOTES</th>\n",
       "      <th>SCHOOLID</th>\n",
       "    </tr>\n",
       "  </thead>\n",
       "  <tbody>\n",
       "    <tr>\n",
       "      <th>0</th>\n",
       "      <td>1</td>\n",
       "      <td>55001002750001</td>\n",
       "      <td>55001</td>\n",
       "      <td>275</td>\n",
       "      <td>0001</td>\n",
       "      <td>55001002750001</td>\n",
       "      <td>11</td>\n",
       "      <td>5500111</td>\n",
       "      <td>01</td>\n",
       "      <td>550010027501</td>\n",
       "      <td>ADAMS</td>\n",
       "      <td>Adams</td>\n",
       "      <td>5500100275</td>\n",
       "      <td>afaust@ncwrpc.org</td>\n",
       "      <td>7/6/2016 1:02:14 PM</td>\n",
       "      <td>C</td>\n",
       "      <td></td>\n",
       "      <td></td>\n",
       "    </tr>\n",
       "    <tr>\n",
       "      <th>1</th>\n",
       "      <td>2</td>\n",
       "      <td>55001002750002</td>\n",
       "      <td>55001</td>\n",
       "      <td>275</td>\n",
       "      <td>0002</td>\n",
       "      <td>55001002750002</td>\n",
       "      <td>12</td>\n",
       "      <td>5500112</td>\n",
       "      <td>02</td>\n",
       "      <td>550010027502</td>\n",
       "      <td>ADAMS</td>\n",
       "      <td>Adams</td>\n",
       "      <td>5500100275</td>\n",
       "      <td>afaust@ncwrpc.org</td>\n",
       "      <td>7/6/2016 1:02:14 PM</td>\n",
       "      <td>C</td>\n",
       "      <td></td>\n",
       "      <td></td>\n",
       "    </tr>\n",
       "    <tr>\n",
       "      <th>2</th>\n",
       "      <td>3</td>\n",
       "      <td>55001002750003</td>\n",
       "      <td>55001</td>\n",
       "      <td>275</td>\n",
       "      <td>0003</td>\n",
       "      <td>55001002750003</td>\n",
       "      <td>12</td>\n",
       "      <td>5500112</td>\n",
       "      <td>03</td>\n",
       "      <td>550010027503</td>\n",
       "      <td>ADAMS</td>\n",
       "      <td>Adams</td>\n",
       "      <td>5500100275</td>\n",
       "      <td>afaust@ncwrpc.org</td>\n",
       "      <td>7/6/2016 1:02:14 PM</td>\n",
       "      <td>C</td>\n",
       "      <td></td>\n",
       "      <td></td>\n",
       "    </tr>\n",
       "    <tr>\n",
       "      <th>3</th>\n",
       "      <td>4</td>\n",
       "      <td>55001002750004</td>\n",
       "      <td>55001</td>\n",
       "      <td>275</td>\n",
       "      <td>0004</td>\n",
       "      <td>55001002750004</td>\n",
       "      <td>11</td>\n",
       "      <td>5500111</td>\n",
       "      <td>04</td>\n",
       "      <td>550010027504</td>\n",
       "      <td>ADAMS</td>\n",
       "      <td>Adams</td>\n",
       "      <td>5500100275</td>\n",
       "      <td>afaust@ncwrpc.org</td>\n",
       "      <td>7/6/2016 1:02:14 PM</td>\n",
       "      <td>C</td>\n",
       "      <td></td>\n",
       "      <td></td>\n",
       "    </tr>\n",
       "    <tr>\n",
       "      <th>4</th>\n",
       "      <td>5</td>\n",
       "      <td>55001003000001</td>\n",
       "      <td>55001</td>\n",
       "      <td>300</td>\n",
       "      <td>0001</td>\n",
       "      <td>55001003000001</td>\n",
       "      <td>8</td>\n",
       "      <td>5500108</td>\n",
       "      <td></td>\n",
       "      <td></td>\n",
       "      <td>ADAMS</td>\n",
       "      <td>ADAMS</td>\n",
       "      <td>5500100300</td>\n",
       "      <td>afaust@ncwrpc.org</td>\n",
       "      <td>7/6/2016 1:02:14 PM</td>\n",
       "      <td>T</td>\n",
       "      <td></td>\n",
       "      <td></td>\n",
       "    </tr>\n",
       "  </tbody>\n",
       "</table>\n",
       "</div>"
      ],
      "text/plain": [
       "   OBJECTID           GEOID  CNTY_FIPS  COUSUBFP WARDID       WARD_FIPS  \\\n",
       "0         1  55001002750001      55001       275   0001  55001002750001   \n",
       "1         2  55001002750002      55001       275   0002  55001002750002   \n",
       "2         3  55001002750003      55001       275   0003  55001002750003   \n",
       "3         4  55001002750004      55001       275   0004  55001002750004   \n",
       "4         5  55001003000001      55001       300   0001  55001003000001   \n",
       "\n",
       "   SUPERID  SUPER_FIPS ALDERID    ALDER_FIPS CNTY_NAME MCD_NAME    MCD_FIPS  \\\n",
       "0       11     5500111      01  550010027501     ADAMS    Adams  5500100275   \n",
       "1       12     5500112      02  550010027502     ADAMS    Adams  5500100275   \n",
       "2       12     5500112      03  550010027503     ADAMS    Adams  5500100275   \n",
       "3       11     5500111      04  550010027504     ADAMS    Adams  5500100275   \n",
       "4        8     5500108                           ADAMS    ADAMS  5500100300   \n",
       "\n",
       "             CONTACT             DATE_SUB CTV NOTES SCHOOLID  \n",
       "0  afaust@ncwrpc.org  7/6/2016 1:02:14 PM   C                 \n",
       "1  afaust@ncwrpc.org  7/6/2016 1:02:14 PM   C                 \n",
       "2  afaust@ncwrpc.org  7/6/2016 1:02:14 PM   C                 \n",
       "3  afaust@ncwrpc.org  7/6/2016 1:02:14 PM   C                 \n",
       "4  afaust@ncwrpc.org  7/6/2016 1:02:14 PM   T                 "
      ]
     },
     "execution_count": 2,
     "metadata": {},
     "output_type": "execute_result"
    }
   ],
   "source": [
    "# also at http://data.ltsb.opendata.arcgis.com/datasets/6497103b939d41268a48905631f84de5_0.csv\n",
    "ltsbwards = pd.read_csv(\"http://data.ltsb.opendata.arcgis.com/datasets/6497103b939d41268a48905631f84de5_0.csv\")\n",
    "ltsbwards.head()"
   ]
  },
  {
   "cell_type": "markdown",
   "metadata": {},
   "source": [
    "Now we need to join the LTSB Shapefile data with the GAB/OpenElex results data, to bring GeoIDs to the reporting units. The join is on (County, City) - two counties might both have the same named city (or a city might be in two counties!) so we need to join on the pair. Alas, the county names are not identitical in both data sets, and there are quirks in the city names, so we need to build up some join keys that match on both datasets. \n",
    "\n",
    "We'll start by modifying the LTSB data, first by creating a column to fix up the \"MCD\" (a 'minor civil division, in Census terms - but what we'd normally call a City, Village, or Town). We'll also create a column with the base FIPS codes for the County+MCD along with us - we'll use Ward numbers later to build out the full GEOID. (In years past, the LTSB data has already included this column but it's been dropped from the curren data)"
   ]
  },
  {
   "cell_type": "code",
   "execution_count": 3,
   "metadata": {
    "collapsed": false
   },
   "outputs": [],
   "source": [
    "def ltsb_reporting_mcd(row):\n",
    "    ctv = \"\"\n",
    "    #print(row['GEOID'])\n",
    "    if row['CTV'] == 'C':\n",
    "        ctv = 'CITY OF '\n",
    "    elif row['CTV'] == 'T':\n",
    "        ctv = 'TOWN OF '\n",
    "    elif row['CTV'] == 'V':\n",
    "        ctv = 'VILLAGE OF '\n",
    "    else:\n",
    "        raise Exception(\"Unexpected CTV option\")\n",
    "        \n",
    "    return(\"%s%s\") %(ctv, row['MCD_NAME'].upper())\n",
    "\n",
    "def partial_fips(row):\n",
    "    return(\"%s%s\" % (row['CNTY_FIPS'], '{0:05d}'.format(int(row['COUSUBFP']))))\n"
   ]
  },
  {
   "cell_type": "code",
   "execution_count": 4,
   "metadata": {
    "collapsed": true
   },
   "outputs": [],
   "source": [
    "ltsbwards['JoinMcd'] = ltsbwards.apply(ltsb_reporting_mcd, axis=1)"
   ]
  },
  {
   "cell_type": "code",
   "execution_count": 5,
   "metadata": {
    "collapsed": false
   },
   "outputs": [],
   "source": [
    "ltsbwards['PARTIALFIPS'] = ltsbwards.apply(partial_fips, axis=1)"
   ]
  },
  {
   "cell_type": "code",
   "execution_count": 6,
   "metadata": {
    "collapsed": false
   },
   "outputs": [],
   "source": [
    "ltsb = ltsbwards[['CNTY_NAME', 'JoinMcd', 'PARTIALFIPS']].copy().drop_duplicates()"
   ]
  },
  {
   "cell_type": "code",
   "execution_count": null,
   "metadata": {
    "collapsed": false
   },
   "outputs": [],
   "source": []
  },
  {
   "cell_type": "code",
   "execution_count": 7,
   "metadata": {
    "collapsed": false
   },
   "outputs": [
    {
     "data": {
      "text/html": [
       "<div>\n",
       "<table border=\"1\" class=\"dataframe\">\n",
       "  <thead>\n",
       "    <tr style=\"text-align: right;\">\n",
       "      <th></th>\n",
       "      <th>CNTY_NAME</th>\n",
       "      <th>JoinMcd</th>\n",
       "      <th>PARTIALFIPS</th>\n",
       "    </tr>\n",
       "  </thead>\n",
       "  <tbody>\n",
       "    <tr>\n",
       "      <th>0</th>\n",
       "      <td>ADAMS</td>\n",
       "      <td>CITY OF ADAMS</td>\n",
       "      <td>5500100275</td>\n",
       "    </tr>\n",
       "    <tr>\n",
       "      <th>4</th>\n",
       "      <td>ADAMS</td>\n",
       "      <td>TOWN OF ADAMS</td>\n",
       "      <td>5500100300</td>\n",
       "    </tr>\n",
       "    <tr>\n",
       "      <th>7</th>\n",
       "      <td>ADAMS</td>\n",
       "      <td>TOWN OF BIG FLATS</td>\n",
       "      <td>5500107300</td>\n",
       "    </tr>\n",
       "    <tr>\n",
       "      <th>9</th>\n",
       "      <td>ADAMS</td>\n",
       "      <td>TOWN OF COLBURN</td>\n",
       "      <td>5500116075</td>\n",
       "    </tr>\n",
       "    <tr>\n",
       "      <th>10</th>\n",
       "      <td>ADAMS</td>\n",
       "      <td>TOWN OF DELL PRAIRIE</td>\n",
       "      <td>5500119575</td>\n",
       "    </tr>\n",
       "  </tbody>\n",
       "</table>\n",
       "</div>"
      ],
      "text/plain": [
       "   CNTY_NAME               JoinMcd PARTIALFIPS\n",
       "0      ADAMS         CITY OF ADAMS  5500100275\n",
       "4      ADAMS         TOWN OF ADAMS  5500100300\n",
       "7      ADAMS     TOWN OF BIG FLATS  5500107300\n",
       "9      ADAMS       TOWN OF COLBURN  5500116075\n",
       "10     ADAMS  TOWN OF DELL PRAIRIE  5500119575"
      ]
     },
     "execution_count": 7,
     "metadata": {},
     "output_type": "execute_result"
    }
   ],
   "source": [
    "ltsb.head(5)"
   ]
  },
  {
   "cell_type": "markdown",
   "metadata": {},
   "source": [
    "Now that we've finished processing the LTSB Ward data, let's load in our OpenElections normalized ward maps. Again, we'll have to fix some the reporting names used in that data so we can have good join keys, so we'll create two new columns, a JoinCounty and a JoinMcd."
   ]
  },
  {
   "cell_type": "code",
   "execution_count": 8,
   "metadata": {
    "collapsed": false
   },
   "outputs": [
    {
     "data": {
      "text/html": [
       "<div>\n",
       "<table border=\"1\" class=\"dataframe\">\n",
       "  <thead>\n",
       "    <tr style=\"text-align: right;\">\n",
       "      <th></th>\n",
       "      <th>county</th>\n",
       "      <th>ward</th>\n",
       "      <th>Muni</th>\n",
       "      <th>ReportingUnit</th>\n",
       "      <th>mapped</th>\n",
       "    </tr>\n",
       "  </thead>\n",
       "  <tbody>\n",
       "    <tr>\n",
       "      <th>0</th>\n",
       "      <td>Adams</td>\n",
       "      <td>Town Of Adams Wards 1-3</td>\n",
       "      <td>Town Of Adams</td>\n",
       "      <td>Wards 1-3</td>\n",
       "      <td>Wards 1,2,3</td>\n",
       "    </tr>\n",
       "    <tr>\n",
       "      <th>1</th>\n",
       "      <td>Adams</td>\n",
       "      <td>Town Of Big Flats Wards 1 &amp; 2</td>\n",
       "      <td>Town Of Big Flats</td>\n",
       "      <td>Wards 1 &amp; 2</td>\n",
       "      <td>Wards 1,2</td>\n",
       "    </tr>\n",
       "    <tr>\n",
       "      <th>2</th>\n",
       "      <td>Adams</td>\n",
       "      <td>Town Of Colburn Ward 1</td>\n",
       "      <td>Town Of Colburn</td>\n",
       "      <td>Ward 1</td>\n",
       "      <td>Ward 1</td>\n",
       "    </tr>\n",
       "    <tr>\n",
       "      <th>3</th>\n",
       "      <td>Adams</td>\n",
       "      <td>Town Of Dell Prairie Wards 1-3</td>\n",
       "      <td>Town Of Dell Prairie</td>\n",
       "      <td>Wards 1-3</td>\n",
       "      <td>Wards 1,2,3</td>\n",
       "    </tr>\n",
       "    <tr>\n",
       "      <th>4</th>\n",
       "      <td>Adams</td>\n",
       "      <td>Town Of Easton Wards 1 &amp; 2</td>\n",
       "      <td>Town Of Easton</td>\n",
       "      <td>Wards 1 &amp; 2</td>\n",
       "      <td>Wards 1,2</td>\n",
       "    </tr>\n",
       "  </tbody>\n",
       "</table>\n",
       "</div>"
      ],
      "text/plain": [
       "  county                            ward                  Muni ReportingUnit  \\\n",
       "0  Adams         Town Of Adams Wards 1-3         Town Of Adams     Wards 1-3   \n",
       "1  Adams   Town Of Big Flats Wards 1 & 2     Town Of Big Flats   Wards 1 & 2   \n",
       "2  Adams          Town Of Colburn Ward 1       Town Of Colburn        Ward 1   \n",
       "3  Adams  Town Of Dell Prairie Wards 1-3  Town Of Dell Prairie     Wards 1-3   \n",
       "4  Adams      Town Of Easton Wards 1 & 2        Town Of Easton   Wards 1 & 2   \n",
       "\n",
       "        mapped  \n",
       "0  Wards 1,2,3  \n",
       "1    Wards 1,2  \n",
       "2       Ward 1  \n",
       "3  Wards 1,2,3  \n",
       "4    Wards 1,2  "
      ]
     },
     "execution_count": 8,
     "metadata": {},
     "output_type": "execute_result"
    }
   ],
   "source": [
    "openelex2014 = pd.read_csv('2014_wards_normalized.csv')\n",
    "openelex2014.head()"
   ]
  },
  {
   "cell_type": "code",
   "execution_count": 9,
   "metadata": {
    "collapsed": false
   },
   "outputs": [],
   "source": [
    "def map_openelex_reporting_county(cnty):\n",
    "    if cnty == \"La Crosse\":\n",
    "        return \"LA_CROSSE\"\n",
    "    if cnty == \"St. Croix\":\n",
    "        return \"ST_CROIX\"\n",
    "    tokens = cnty.split()\n",
    "    cntyname = \"_\".join(tokens)\n",
    "    return cntyname.upper()\n",
    "\n",
    "openelex2014['JoinCounty'] = openelex2014['county'].map(map_openelex_reporting_county) "
   ]
  },
  {
   "cell_type": "code",
   "execution_count": 10,
   "metadata": {
    "collapsed": false
   },
   "outputs": [],
   "source": [
    "def map_openelex_mcd(mcd):\n",
    "    mcd = mcd.upper()\n",
    "    if mcd == \"TOWN OF GRAND VIEW\":\n",
    "        return 'TOWN OF GRANDVIEW'\n",
    "    elif mcd == \"VILLAGE OF Windsor\":\n",
    "        return 'VILLAGE OF WINDSOR'\n",
    "    elif mcd == \"TOWN OF WINDSOR\":\n",
    "        return 'VILLAGE OF WINDSOR'\n",
    "    elif mcd == 'VILLAGE OF FONTANA':\n",
    "        return 'VILLAGE OF FONTANA-ON-GENEVA LAKE'\n",
    "    elif mcd == 'TOWN OF SAINT LAWRENCE':\n",
    "        return 'TOWN OF ST. LAWRENCE'\n",
    "    elif mcd == 'TOWN OF LAND O-LAKES':\n",
    "        return 'TOWN OF LAND O\\'LAKES'\n",
    "    elif mcd == 'VILLAGE OF LAVALLE':\n",
    "        return 'VILLAGE OF LA VALLE'\n",
    "    elif mcd == 'VILLAGE OF Maine':\n",
    "        return 'VILLAGE OF MAINE'\n",
    "    #elif mcd == 'TOWN OF MAINE':\n",
    "    #    return 'VILLAGE OF MAINE'\n",
    "    elif mcd == 'VILLAGE OF MT. STERLING':\n",
    "        return 'VILLAGE OF MOUNT STERLING'\n",
    "    else:\n",
    "        return mcd\n",
    "    \n",
    "openelex2014['JoinMcd'] = openelex2014['Muni'].map(map_openelex_mcd)"
   ]
  },
  {
   "cell_type": "markdown",
   "metadata": {},
   "source": [
    "There is one odditity to fix up by hand. We're using 2014 OpenElections data, however, since then the Town of Windsor and the Town of Maine in Marathon County have incorporated as villages. The Town of Windsor was easy to handle above, but it turns out there are multiple Towns in Wisconsin named 'Maine' - one in Marathon County (which has incorporated) and one in Outagamie County, which has not. So, just fix Marathon County instance by hand in the LTSB data so the 2014 OpenElections data can join against it to find the GeoIDs."
   ]
  },
  {
   "cell_type": "code",
   "execution_count": 11,
   "metadata": {
    "collapsed": false
   },
   "outputs": [],
   "source": [
    "ltsb.loc[(ltsb['CNTY_NAME']=='MARATHON') & (ltsb['JoinMcd']=='VILLAGE OF MAINE'), 'JoinMcd'] = 'TOWN OF MAINE'"
   ]
  },
  {
   "cell_type": "markdown",
   "metadata": {},
   "source": [
    "Now, we'll actually do the merge between the OpenElections data and the modified LTSB data. We want a left-join to lookup data from the LTSB side and to make sure that we cover all the OpenElections data. (We'll check to make sure there are no rows that didn't pick up the LTSB 'CNTY_NAME' data)"
   ]
  },
  {
   "cell_type": "code",
   "execution_count": 12,
   "metadata": {
    "collapsed": false
   },
   "outputs": [],
   "source": [
    "joined = pd.merge(openelex2014, ltsb, how='left', right_on=['JoinMcd', 'CNTY_NAME'], left_on=['JoinMcd', 'JoinCounty'])\n"
   ]
  },
  {
   "cell_type": "code",
   "execution_count": 13,
   "metadata": {
    "collapsed": false
   },
   "outputs": [
    {
     "data": {
      "text/html": [
       "<div>\n",
       "<table border=\"1\" class=\"dataframe\">\n",
       "  <thead>\n",
       "    <tr style=\"text-align: right;\">\n",
       "      <th></th>\n",
       "      <th>county</th>\n",
       "      <th>ward</th>\n",
       "      <th>Muni</th>\n",
       "      <th>ReportingUnit</th>\n",
       "      <th>mapped</th>\n",
       "      <th>JoinCounty</th>\n",
       "      <th>JoinMcd</th>\n",
       "      <th>CNTY_NAME</th>\n",
       "      <th>PARTIALFIPS</th>\n",
       "    </tr>\n",
       "  </thead>\n",
       "  <tbody>\n",
       "    <tr>\n",
       "      <th>0</th>\n",
       "      <td>Adams</td>\n",
       "      <td>Town Of Adams Wards 1-3</td>\n",
       "      <td>Town Of Adams</td>\n",
       "      <td>Wards 1-3</td>\n",
       "      <td>Wards 1,2,3</td>\n",
       "      <td>ADAMS</td>\n",
       "      <td>TOWN OF ADAMS</td>\n",
       "      <td>ADAMS</td>\n",
       "      <td>5500100300</td>\n",
       "    </tr>\n",
       "    <tr>\n",
       "      <th>1</th>\n",
       "      <td>Adams</td>\n",
       "      <td>Town Of Big Flats Wards 1 &amp; 2</td>\n",
       "      <td>Town Of Big Flats</td>\n",
       "      <td>Wards 1 &amp; 2</td>\n",
       "      <td>Wards 1,2</td>\n",
       "      <td>ADAMS</td>\n",
       "      <td>TOWN OF BIG FLATS</td>\n",
       "      <td>ADAMS</td>\n",
       "      <td>5500107300</td>\n",
       "    </tr>\n",
       "    <tr>\n",
       "      <th>2</th>\n",
       "      <td>Adams</td>\n",
       "      <td>Town Of Colburn Ward 1</td>\n",
       "      <td>Town Of Colburn</td>\n",
       "      <td>Ward 1</td>\n",
       "      <td>Ward 1</td>\n",
       "      <td>ADAMS</td>\n",
       "      <td>TOWN OF COLBURN</td>\n",
       "      <td>ADAMS</td>\n",
       "      <td>5500116075</td>\n",
       "    </tr>\n",
       "    <tr>\n",
       "      <th>3</th>\n",
       "      <td>Adams</td>\n",
       "      <td>Town Of Dell Prairie Wards 1-3</td>\n",
       "      <td>Town Of Dell Prairie</td>\n",
       "      <td>Wards 1-3</td>\n",
       "      <td>Wards 1,2,3</td>\n",
       "      <td>ADAMS</td>\n",
       "      <td>TOWN OF DELL PRAIRIE</td>\n",
       "      <td>ADAMS</td>\n",
       "      <td>5500119575</td>\n",
       "    </tr>\n",
       "    <tr>\n",
       "      <th>4</th>\n",
       "      <td>Adams</td>\n",
       "      <td>Town Of Easton Wards 1 &amp; 2</td>\n",
       "      <td>Town Of Easton</td>\n",
       "      <td>Wards 1 &amp; 2</td>\n",
       "      <td>Wards 1,2</td>\n",
       "      <td>ADAMS</td>\n",
       "      <td>TOWN OF EASTON</td>\n",
       "      <td>ADAMS</td>\n",
       "      <td>5500122000</td>\n",
       "    </tr>\n",
       "  </tbody>\n",
       "</table>\n",
       "</div>"
      ],
      "text/plain": [
       "  county                            ward                  Muni ReportingUnit  \\\n",
       "0  Adams         Town Of Adams Wards 1-3         Town Of Adams     Wards 1-3   \n",
       "1  Adams   Town Of Big Flats Wards 1 & 2     Town Of Big Flats   Wards 1 & 2   \n",
       "2  Adams          Town Of Colburn Ward 1       Town Of Colburn        Ward 1   \n",
       "3  Adams  Town Of Dell Prairie Wards 1-3  Town Of Dell Prairie     Wards 1-3   \n",
       "4  Adams      Town Of Easton Wards 1 & 2        Town Of Easton   Wards 1 & 2   \n",
       "\n",
       "        mapped JoinCounty               JoinMcd CNTY_NAME PARTIALFIPS  \n",
       "0  Wards 1,2,3      ADAMS         TOWN OF ADAMS     ADAMS  5500100300  \n",
       "1    Wards 1,2      ADAMS     TOWN OF BIG FLATS     ADAMS  5500107300  \n",
       "2       Ward 1      ADAMS       TOWN OF COLBURN     ADAMS  5500116075  \n",
       "3  Wards 1,2,3      ADAMS  TOWN OF DELL PRAIRIE     ADAMS  5500119575  \n",
       "4    Wards 1,2      ADAMS        TOWN OF EASTON     ADAMS  5500122000  "
      ]
     },
     "execution_count": 13,
     "metadata": {},
     "output_type": "execute_result"
    }
   ],
   "source": [
    "joined.head()"
   ]
  },
  {
   "cell_type": "code",
   "execution_count": 14,
   "metadata": {
    "collapsed": false
   },
   "outputs": [
    {
     "data": {
      "text/html": [
       "<div>\n",
       "<table border=\"1\" class=\"dataframe\">\n",
       "  <thead>\n",
       "    <tr style=\"text-align: right;\">\n",
       "      <th></th>\n",
       "      <th>county</th>\n",
       "      <th>ward</th>\n",
       "      <th>Muni</th>\n",
       "      <th>ReportingUnit</th>\n",
       "      <th>mapped</th>\n",
       "      <th>JoinCounty</th>\n",
       "      <th>JoinMcd</th>\n",
       "      <th>CNTY_NAME</th>\n",
       "      <th>PARTIALFIPS</th>\n",
       "    </tr>\n",
       "  </thead>\n",
       "  <tbody>\n",
       "  </tbody>\n",
       "</table>\n",
       "</div>"
      ],
      "text/plain": [
       "Empty DataFrame\n",
       "Columns: [county, ward, Muni, ReportingUnit, mapped, JoinCounty, JoinMcd, CNTY_NAME, PARTIALFIPS]\n",
       "Index: []"
      ]
     },
     "execution_count": 14,
     "metadata": {},
     "output_type": "execute_result"
    }
   ],
   "source": [
    "joined[joined['CNTY_NAME'].isnull()]"
   ]
  },
  {
   "cell_type": "markdown",
   "metadata": {},
   "source": [
    "Now, for our lookup table, we'll keep most of the OpenElections data but drop what we don't need."
   ]
  },
  {
   "cell_type": "code",
   "execution_count": 15,
   "metadata": {
    "collapsed": false
   },
   "outputs": [],
   "source": [
    "finished = joined[['county', 'ward', 'Muni', 'ReportingUnit', 'mapped', 'PARTIALFIPS']].copy()"
   ]
  },
  {
   "cell_type": "markdown",
   "metadata": {},
   "source": [
    "Finally, let's run over each row and convert the normalized OpenElections data into a set of Pipe-delimited GeoIDs, that can be used in a mapping exercise. "
   ]
  },
  {
   "cell_type": "code",
   "execution_count": 16,
   "metadata": {
    "collapsed": false
   },
   "outputs": [],
   "source": [
    "def expandfips(row):\n",
    "    #print(row'')\n",
    "    #print(\"done\")\n",
    "    (junk, wardsstr) = row['mapped'].split()\n",
    "    wardlist = [x for x in wardsstr.split(',')]\n",
    "    fipslist = \"|\".join([\"%s%s\" % (row['PARTIALFIPS'], x.rjust(4,'0')) for x in wardlist])\n",
    "    return fipslist\n",
    "                     \n",
    "finished['EXPANDEDGEO'] = finished.apply(expandfips, axis=1)\n",
    "        "
   ]
  },
  {
   "cell_type": "markdown",
   "metadata": {},
   "source": [
    "Let's just take a look at a couple of samples, including one with a funky ward ID"
   ]
  },
  {
   "cell_type": "code",
   "execution_count": 17,
   "metadata": {
    "collapsed": false
   },
   "outputs": [
    {
     "data": {
      "text/html": [
       "<div>\n",
       "<table border=\"1\" class=\"dataframe\">\n",
       "  <thead>\n",
       "    <tr style=\"text-align: right;\">\n",
       "      <th></th>\n",
       "      <th>county</th>\n",
       "      <th>ward</th>\n",
       "      <th>Muni</th>\n",
       "      <th>ReportingUnit</th>\n",
       "      <th>mapped</th>\n",
       "      <th>PARTIALFIPS</th>\n",
       "      <th>EXPANDEDGEO</th>\n",
       "    </tr>\n",
       "  </thead>\n",
       "  <tbody>\n",
       "    <tr>\n",
       "      <th>0</th>\n",
       "      <td>Adams</td>\n",
       "      <td>Town Of Adams Wards 1-3</td>\n",
       "      <td>Town Of Adams</td>\n",
       "      <td>Wards 1-3</td>\n",
       "      <td>Wards 1,2,3</td>\n",
       "      <td>5500100300</td>\n",
       "      <td>55001003000001|55001003000002|55001003000003</td>\n",
       "    </tr>\n",
       "    <tr>\n",
       "      <th>1</th>\n",
       "      <td>Adams</td>\n",
       "      <td>Town Of Big Flats Wards 1 &amp; 2</td>\n",
       "      <td>Town Of Big Flats</td>\n",
       "      <td>Wards 1 &amp; 2</td>\n",
       "      <td>Wards 1,2</td>\n",
       "      <td>5500107300</td>\n",
       "      <td>55001073000001|55001073000002</td>\n",
       "    </tr>\n",
       "    <tr>\n",
       "      <th>2</th>\n",
       "      <td>Adams</td>\n",
       "      <td>Town Of Colburn Ward 1</td>\n",
       "      <td>Town Of Colburn</td>\n",
       "      <td>Ward 1</td>\n",
       "      <td>Ward 1</td>\n",
       "      <td>5500116075</td>\n",
       "      <td>55001160750001</td>\n",
       "    </tr>\n",
       "    <tr>\n",
       "      <th>3</th>\n",
       "      <td>Adams</td>\n",
       "      <td>Town Of Dell Prairie Wards 1-3</td>\n",
       "      <td>Town Of Dell Prairie</td>\n",
       "      <td>Wards 1-3</td>\n",
       "      <td>Wards 1,2,3</td>\n",
       "      <td>5500119575</td>\n",
       "      <td>55001195750001|55001195750002|55001195750003</td>\n",
       "    </tr>\n",
       "    <tr>\n",
       "      <th>4</th>\n",
       "      <td>Adams</td>\n",
       "      <td>Town Of Easton Wards 1 &amp; 2</td>\n",
       "      <td>Town Of Easton</td>\n",
       "      <td>Wards 1 &amp; 2</td>\n",
       "      <td>Wards 1,2</td>\n",
       "      <td>5500122000</td>\n",
       "      <td>55001220000001|55001220000002</td>\n",
       "    </tr>\n",
       "    <tr>\n",
       "      <th>5</th>\n",
       "      <td>Adams</td>\n",
       "      <td>Town Of Jackson Wards 1 &amp; 2</td>\n",
       "      <td>Town Of Jackson</td>\n",
       "      <td>Wards 1 &amp; 2</td>\n",
       "      <td>Wards 1,2</td>\n",
       "      <td>5500137625</td>\n",
       "      <td>55001376250001|55001376250002</td>\n",
       "    </tr>\n",
       "    <tr>\n",
       "      <th>6</th>\n",
       "      <td>Adams</td>\n",
       "      <td>Town Of Leola Ward 1</td>\n",
       "      <td>Town Of Leola</td>\n",
       "      <td>Ward 1</td>\n",
       "      <td>Ward 1</td>\n",
       "      <td>5500143425</td>\n",
       "      <td>55001434250001</td>\n",
       "    </tr>\n",
       "    <tr>\n",
       "      <th>7</th>\n",
       "      <td>Adams</td>\n",
       "      <td>Town Of Lincoln Ward 1</td>\n",
       "      <td>Town Of Lincoln</td>\n",
       "      <td>Ward 1</td>\n",
       "      <td>Ward 1</td>\n",
       "      <td>5500144250</td>\n",
       "      <td>55001442500001</td>\n",
       "    </tr>\n",
       "    <tr>\n",
       "      <th>8</th>\n",
       "      <td>Adams</td>\n",
       "      <td>Town Of Monroe Ward 1</td>\n",
       "      <td>Town Of Monroe</td>\n",
       "      <td>Ward 1</td>\n",
       "      <td>Ward 1</td>\n",
       "      <td>5500153725</td>\n",
       "      <td>55001537250001</td>\n",
       "    </tr>\n",
       "    <tr>\n",
       "      <th>9</th>\n",
       "      <td>Adams</td>\n",
       "      <td>Town Of New Chester Ward 1-3</td>\n",
       "      <td>Town Of New Chester</td>\n",
       "      <td>Ward 1-3</td>\n",
       "      <td>Wards 1,2,3</td>\n",
       "      <td>5500156525</td>\n",
       "      <td>55001565250001|55001565250002|55001565250003</td>\n",
       "    </tr>\n",
       "  </tbody>\n",
       "</table>\n",
       "</div>"
      ],
      "text/plain": [
       "  county                            ward                  Muni ReportingUnit  \\\n",
       "0  Adams         Town Of Adams Wards 1-3         Town Of Adams     Wards 1-3   \n",
       "1  Adams   Town Of Big Flats Wards 1 & 2     Town Of Big Flats   Wards 1 & 2   \n",
       "2  Adams          Town Of Colburn Ward 1       Town Of Colburn        Ward 1   \n",
       "3  Adams  Town Of Dell Prairie Wards 1-3  Town Of Dell Prairie     Wards 1-3   \n",
       "4  Adams      Town Of Easton Wards 1 & 2        Town Of Easton   Wards 1 & 2   \n",
       "5  Adams     Town Of Jackson Wards 1 & 2       Town Of Jackson   Wards 1 & 2   \n",
       "6  Adams            Town Of Leola Ward 1         Town Of Leola        Ward 1   \n",
       "7  Adams          Town Of Lincoln Ward 1       Town Of Lincoln        Ward 1   \n",
       "8  Adams           Town Of Monroe Ward 1        Town Of Monroe        Ward 1   \n",
       "9  Adams    Town Of New Chester Ward 1-3   Town Of New Chester      Ward 1-3   \n",
       "\n",
       "        mapped PARTIALFIPS                                   EXPANDEDGEO  \n",
       "0  Wards 1,2,3  5500100300  55001003000001|55001003000002|55001003000003  \n",
       "1    Wards 1,2  5500107300                 55001073000001|55001073000002  \n",
       "2       Ward 1  5500116075                                55001160750001  \n",
       "3  Wards 1,2,3  5500119575  55001195750001|55001195750002|55001195750003  \n",
       "4    Wards 1,2  5500122000                 55001220000001|55001220000002  \n",
       "5    Wards 1,2  5500137625                 55001376250001|55001376250002  \n",
       "6       Ward 1  5500143425                                55001434250001  \n",
       "7       Ward 1  5500144250                                55001442500001  \n",
       "8       Ward 1  5500153725                                55001537250001  \n",
       "9  Wards 1,2,3  5500156525  55001565250001|55001565250002|55001565250003  "
      ]
     },
     "execution_count": 17,
     "metadata": {},
     "output_type": "execute_result"
    }
   ],
   "source": [
    "finished.head(10)"
   ]
  },
  {
   "cell_type": "code",
   "execution_count": 18,
   "metadata": {
    "collapsed": false
   },
   "outputs": [
    {
     "data": {
      "text/html": [
       "<div>\n",
       "<table border=\"1\" class=\"dataframe\">\n",
       "  <thead>\n",
       "    <tr style=\"text-align: right;\">\n",
       "      <th></th>\n",
       "      <th>county</th>\n",
       "      <th>ward</th>\n",
       "      <th>Muni</th>\n",
       "      <th>ReportingUnit</th>\n",
       "      <th>mapped</th>\n",
       "      <th>PARTIALFIPS</th>\n",
       "      <th>EXPANDEDGEO</th>\n",
       "    </tr>\n",
       "  </thead>\n",
       "  <tbody>\n",
       "    <tr>\n",
       "      <th>3489</th>\n",
       "      <td>Winnebago</td>\n",
       "      <td>City Of Menasha Wards 1A, 2, 4, 7</td>\n",
       "      <td>City Of Menasha</td>\n",
       "      <td>Wards 1A, 2, 4, 7</td>\n",
       "      <td>Wards 1A,2,4,7</td>\n",
       "      <td>5513950825</td>\n",
       "      <td>5513950825001A|55139508250002|55139508250004|5...</td>\n",
       "    </tr>\n",
       "  </tbody>\n",
       "</table>\n",
       "</div>"
      ],
      "text/plain": [
       "         county                               ward             Muni  \\\n",
       "3489  Winnebago  City Of Menasha Wards 1A, 2, 4, 7  City Of Menasha   \n",
       "\n",
       "          ReportingUnit          mapped PARTIALFIPS  \\\n",
       "3489  Wards 1A, 2, 4, 7  Wards 1A,2,4,7  5513950825   \n",
       "\n",
       "                                            EXPANDEDGEO  \n",
       "3489  5513950825001A|55139508250002|55139508250004|5...  "
      ]
     },
     "execution_count": 18,
     "metadata": {},
     "output_type": "execute_result"
    }
   ],
   "source": [
    "finished[finished['ReportingUnit']== 'Wards 1A, 2, 4, 7']"
   ]
  },
  {
   "cell_type": "markdown",
   "metadata": {},
   "source": [
    "And now write out a lookup table to a CSV"
   ]
  },
  {
   "cell_type": "code",
   "execution_count": 19,
   "metadata": {
    "collapsed": true
   },
   "outputs": [],
   "source": [
    "finished.to_csv(\"2014_WI_Reporting_Units_To_GEOID.csv\")"
   ]
  },
  {
   "cell_type": "code",
   "execution_count": null,
   "metadata": {
    "collapsed": true
   },
   "outputs": [],
   "source": []
  },
  {
   "cell_type": "code",
   "execution_count": null,
   "metadata": {
    "collapsed": true
   },
   "outputs": [],
   "source": []
  }
 ],
 "metadata": {
  "anaconda-cloud": {},
  "kernelspec": {
   "display_name": "Python [conda env:gab]",
   "language": "python",
   "name": "conda-env-gab-py"
  },
  "language_info": {
   "codemirror_mode": {
    "name": "ipython",
    "version": 3
   },
   "file_extension": ".py",
   "mimetype": "text/x-python",
   "name": "python",
   "nbconvert_exporter": "python",
   "pygments_lexer": "ipython3",
   "version": "3.5.2"
  }
 },
 "nbformat": 4,
 "nbformat_minor": 1
}
